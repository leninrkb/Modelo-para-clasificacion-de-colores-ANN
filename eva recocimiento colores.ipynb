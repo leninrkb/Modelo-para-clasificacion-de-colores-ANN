{
 "cells": [
  {
   "cell_type": "markdown",
   "id": "959ad801",
   "metadata": {},
   "source": [
    "### importamos las librerias a utilizar"
   ]
  },
  {
   "cell_type": "code",
   "execution_count": 1,
   "id": "ab0dac45",
   "metadata": {},
   "outputs": [
    {
     "name": "stderr",
     "output_type": "stream",
     "text": [
      "2023-02-08 10:29:21.727808: I tensorflow/core/platform/cpu_feature_guard.cc:193] This TensorFlow binary is optimized with oneAPI Deep Neural Network Library (oneDNN) to use the following CPU instructions in performance-critical operations:  AVX2 FMA\n",
      "To enable them in other operations, rebuild TensorFlow with the appropriate compiler flags.\n",
      "2023-02-08 10:29:21.955245: W tensorflow/compiler/xla/stream_executor/platform/default/dso_loader.cc:64] Could not load dynamic library 'libcudart.so.11.0'; dlerror: libcudart.so.11.0: cannot open shared object file: No such file or directory\n",
      "2023-02-08 10:29:21.955268: I tensorflow/compiler/xla/stream_executor/cuda/cudart_stub.cc:29] Ignore above cudart dlerror if you do not have a GPU set up on your machine.\n",
      "2023-02-08 10:29:23.452747: W tensorflow/compiler/xla/stream_executor/platform/default/dso_loader.cc:64] Could not load dynamic library 'libnvinfer.so.7'; dlerror: libnvinfer.so.7: cannot open shared object file: No such file or directory\n",
      "2023-02-08 10:29:23.452904: W tensorflow/compiler/xla/stream_executor/platform/default/dso_loader.cc:64] Could not load dynamic library 'libnvinfer_plugin.so.7'; dlerror: libnvinfer_plugin.so.7: cannot open shared object file: No such file or directory\n",
      "2023-02-08 10:29:23.452915: W tensorflow/compiler/tf2tensorrt/utils/py_utils.cc:38] TF-TRT Warning: Cannot dlopen some TensorRT libraries. If you would like to use Nvidia GPU with TensorRT, please make sure the missing libraries mentioned above are installed properly.\n"
     ]
    }
   ],
   "source": [
    "import warnings\n",
    "warnings.filterwarnings('ignore')\n",
    "\n",
    "import tensorflow as tf\n",
    "import numpy as np\n",
    "import matplotlib.pyplot as plt\n",
    "from tensorflow.keras.models import Sequential\n",
    "from tensorflow.keras.layers import Dense, Flatten, Conv2D, MaxPooling2D, Input, Dropout\n",
    "from tensorflow.keras.preprocessing.image import load_img, img_to_array\n",
    "from sklearn.model_selection import train_test_split\n",
    "import os"
   ]
  },
  {
   "cell_type": "code",
   "execution_count": 2,
   "id": "95528ba7",
   "metadata": {},
   "outputs": [],
   "source": [
    "from fuzzypy import *\n",
    "from fuzzypy.variables import *\n"
   ]
  },
  {
   "cell_type": "markdown",
   "id": "8012439b",
   "metadata": {},
   "source": [
    "### Preparacion de espacio de trabajo\n",
    "\n",
    "especificamos la ruta de nuestro dataset, un arreglo para guardar las categorias que vayamos encontrando y la dimension a trabajar con nuestras imagenes"
   ]
  },
  {
   "cell_type": "markdown",
   "id": "342e7850",
   "metadata": {},
   "source": [
    "recorremos el direcotorio excluyendo las imagenes de testeo"
   ]
  },
  {
   "cell_type": "code",
   "execution_count": 3,
   "id": "a6fba52d",
   "metadata": {},
   "outputs": [
    {
     "name": "stdout",
     "output_type": "stream",
     "text": [
      "categorias encontradas: ['morado', 'azul', 'rojo', 'amarillo', 'gris', 'rosado', 'negro', 'naranja', 'celeste', 'verde', 'blanco', 'cafe']\n",
      " total: 12\n"
     ]
    }
   ],
   "source": [
    "DATADIR = '/home/lenin/Documents/datasets/colores'\n",
    "CATEGORIES = []\n",
    "IMG_SIZE=10\n",
    "\n",
    "negative = ['testimg','old']\n",
    "for cate in os.listdir(DATADIR):\n",
    "    if cate in negative: continue\n",
    "    CATEGORIES.append(cate)\n",
    "print(f'categorias encontradas: {CATEGORIES}\\n total: {len(CATEGORIES)}')"
   ]
  },
  {
   "cell_type": "markdown",
   "id": "639757ce",
   "metadata": {},
   "source": [
    "### Recoleccion de datos\n",
    "recorremos el directorio tomando cada imagen segun su respectiva categoria"
   ]
  },
  {
   "cell_type": "code",
   "execution_count": 4,
   "id": "bd186310",
   "metadata": {},
   "outputs": [],
   "source": [
    "def fuzzy_rojo(img_array):\n",
    "    # Define a fuzzy variable for rojo color\n",
    "    rojo = FuzzyVariable()\n",
    "    verde = FuzzyVariable()\n",
    "    azul = FuzzyVariable()\n",
    "\n",
    "    # Define the membership functions\n",
    "    muy = TriFunc(240, 245, 255)\n",
    "    medio = TriFunc(230, 240, 245)\n",
    "    nada = TriFunc(200, 225, 230)\n",
    "    \n",
    "    rg_muy = TriFunc(35, 40, 50)\n",
    "    rg_medio = TriFunc(20, 25, 35)\n",
    "    rg_nada = TriFunc(0, 12, 20)\n",
    "\n",
    "    # Determine the fuzzy terms\n",
    "    muy_rojo = rojo.is_(muy)\n",
    "    medio_rojo = rojo.is_(medio)\n",
    "    nada_rojo = rojo.is_(nada)\n",
    "    \n",
    "    muy_verde = verde.is_(rg_muy)\n",
    "    medio_verde = verde.is_(rg_medio)\n",
    "    nada_verde = verde.is_(rg_nada)\n",
    "\n",
    "    muy_azul = azul.is_(rg_muy)\n",
    "    medio_azul = azul.is_(rg_medio)\n",
    "    nada_azul = azul.is_(rg_nada)\n",
    "\n",
    "    # Define rules\n",
    "    rule1 = FuzzyRule(nada_verde & nada_azul, muy_rojo)\n",
    "    rule2 = FuzzyRule(medio_verde & medio_azul, medio_rojo)\n",
    "    rule3 = FuzzyRule(muy_verde & muy_azul, nada_rojo)\n",
    "\n",
    "    # Evaluate the rules\n",
    "    r, g, b = img_array[:,:,0], img_array[:,:,1], img_array[:,:,2]\n",
    "    apply_defuzzyfy_COG([rule1, rule2, rule3])\n",
    "    result = rojo.value\n",
    "\n",
    "    print(result)\n"
   ]
  },
  {
   "cell_type": "code",
   "execution_count": 5,
   "id": "614c1cc7",
   "metadata": {},
   "outputs": [
    {
     "name": "stdout",
     "output_type": "stream",
     "text": [
      "original (10, 10, 3)\n"
     ]
    },
    {
     "ename": "TypeError",
     "evalue": "FuzzyRule.__init__() missing 1 required positional argument: 'membership'",
     "output_type": "error",
     "traceback": [
      "\u001b[0;31m---------------------------------------------------------------------------\u001b[0m",
      "\u001b[0;31mTypeError\u001b[0m                                 Traceback (most recent call last)",
      "Cell \u001b[0;32mIn[5], line 10\u001b[0m\n\u001b[1;32m      8\u001b[0m \u001b[39mprint\u001b[39m(\u001b[39mf\u001b[39m\u001b[39m'\u001b[39m\u001b[39moriginal \u001b[39m\u001b[39m{\u001b[39;00mx\u001b[39m.\u001b[39mshape\u001b[39m}\u001b[39;00m\u001b[39m'\u001b[39m)\n\u001b[1;32m      9\u001b[0m \u001b[39m#  aqui para hacer fuzzy\u001b[39;00m\n\u001b[0;32m---> 10\u001b[0m x \u001b[39m=\u001b[39m fuzzy_rojo(x)\n\u001b[1;32m     11\u001b[0m \u001b[39mbreak\u001b[39;00m\n\u001b[1;32m     12\u001b[0m x\u001b[39m=\u001b[39mx\u001b[39m/\u001b[39m\u001b[39m255\u001b[39m\n",
      "Cell \u001b[0;32mIn[4], line 30\u001b[0m, in \u001b[0;36mfuzzy_rojo\u001b[0;34m(img_array)\u001b[0m\n\u001b[1;32m     27\u001b[0m nada_azul \u001b[39m=\u001b[39m azul\u001b[39m.\u001b[39mis_(rg_nada)\n\u001b[1;32m     29\u001b[0m \u001b[39m# Define rules\u001b[39;00m\n\u001b[0;32m---> 30\u001b[0m rule1 \u001b[39m=\u001b[39m FuzzyRule(nada_verde \u001b[39m&\u001b[39;49m nada_azul, muy_rojo)\n\u001b[1;32m     31\u001b[0m rule2 \u001b[39m=\u001b[39m FuzzyRule(medio_verde \u001b[39m&\u001b[39m medio_azul, medio_rojo)\n\u001b[1;32m     32\u001b[0m rule3 \u001b[39m=\u001b[39m FuzzyRule(muy_verde \u001b[39m&\u001b[39m muy_azul, nada_rojo)\n",
      "\u001b[0;31mTypeError\u001b[0m: FuzzyRule.__init__() missing 1 required positional argument: 'membership'"
     ]
    }
   ],
   "source": [
    "training_data=[] #var para los datos recolectados\n",
    "labels=0\n",
    "for category in CATEGORIES:\n",
    "    path=os.path.join(DATADIR, category)\n",
    "    for fname in os.listdir(path):\n",
    "        img = load_img((path+'/'+fname), target_size=(IMG_SIZE,IMG_SIZE))\n",
    "        x = img_to_array(img)\n",
    "        print(f'original {x.shape}')\n",
    "        #  aqui para hacer fuzzy\n",
    "        x = fuzzy_rojo(x)\n",
    "        break\n",
    "        x=x/255\n",
    "        training_data.append([x,labels])\n",
    "    break\n",
    "    print(f'{category} : {labels}')\n",
    "    labels+=1\n",
    "print('done')"
   ]
  },
  {
   "cell_type": "markdown",
   "id": "df437530",
   "metadata": {},
   "source": [
    "verificamos el total de datos que tenemos"
   ]
  },
  {
   "cell_type": "code",
   "execution_count": 11,
   "id": "376f016e",
   "metadata": {},
   "outputs": [
    {
     "name": "stdout",
     "output_type": "stream",
     "text": [
      "18480\n"
     ]
    }
   ],
   "source": [
    "lenofimage = len(training_data)\n",
    "print(lenofimage)"
   ]
  },
  {
   "cell_type": "markdown",
   "id": "cafca375",
   "metadata": {},
   "source": [
    "### Tratamiento de los datos\n",
    "separamos  nuestra data en img-labels y los tratamos con numpy"
   ]
  },
  {
   "cell_type": "code",
   "execution_count": 12,
   "id": "9bf3f7c2",
   "metadata": {},
   "outputs": [
    {
     "name": "stdout",
     "output_type": "stream",
     "text": [
      "done\n"
     ]
    }
   ],
   "source": [
    "X=[]\n",
    "y=[]\n",
    "for img, label in training_data:\n",
    "    X.append(img)\n",
    "    y.append(label)\n",
    "print('done')\n",
    "del training_data"
   ]
  },
  {
   "cell_type": "markdown",
   "id": "9a0a4673",
   "metadata": {},
   "source": [
    "verificamos la forma de nuestra data"
   ]
  },
  {
   "cell_type": "code",
   "execution_count": 13,
   "id": "4777655d",
   "metadata": {},
   "outputs": [
    {
     "name": "stdout",
     "output_type": "stream",
     "text": [
      "labels (18480,)\n",
      "img (18480, 3, 3, 3)\n"
     ]
    }
   ],
   "source": [
    "X=np.array(X)\n",
    "y=np.array(y)\n",
    "print('labels',y.shape)\n",
    "print('img',X.shape)"
   ]
  },
  {
   "cell_type": "markdown",
   "id": "8c237d2a",
   "metadata": {},
   "source": [
    "dividimos la data para train y test"
   ]
  },
  {
   "cell_type": "code",
   "execution_count": 14,
   "id": "d7f07e1a",
   "metadata": {},
   "outputs": [
    {
     "name": "stdout",
     "output_type": "stream",
     "text": [
      "train: 13860, test: 4620\n"
     ]
    }
   ],
   "source": [
    "X_train, X_test, y_train, y_test = train_test_split(X,y)\n",
    "print(f'train: {len(X_train)}, test: {len(X_test)}')\n",
    "del X\n",
    "del y"
   ]
  },
  {
   "cell_type": "code",
   "execution_count": 16,
   "id": "5566362f",
   "metadata": {},
   "outputs": [
    {
     "name": "stdout",
     "output_type": "stream",
     "text": [
      "(13860, 3, 3, 3)\n"
     ]
    }
   ],
   "source": [
    "print(X_train.shape)"
   ]
  },
  {
   "cell_type": "code",
   "execution_count": 17,
   "id": "1f67b5f2",
   "metadata": {},
   "outputs": [
    {
     "data": {
      "text/plain": [
       "array([[[[0.7921569 , 0.7882353 , 0.81960785],\n",
       "         [0.8235294 , 0.81960785, 0.8392157 ],\n",
       "         [0.8235294 , 0.8235294 , 0.8235294 ]],\n",
       "\n",
       "        [[0.84313726, 0.84705883, 0.8666667 ],\n",
       "         [0.84313726, 0.84313726, 0.84313726],\n",
       "         [0.89411765, 0.89411765, 0.89411765]],\n",
       "\n",
       "        [[0.8784314 , 0.8784314 , 0.8862745 ],\n",
       "         [0.8666667 , 0.8666667 , 0.8666667 ],\n",
       "         [0.8627451 , 0.8627451 , 0.8627451 ]]],\n",
       "\n",
       "\n",
       "       [[[0.9647059 , 0.9647059 , 0.9647059 ],\n",
       "         [0.96862745, 0.96862745, 0.96862745],\n",
       "         [0.9647059 , 0.9647059 , 0.9647059 ]],\n",
       "\n",
       "        [[0.9607843 , 0.9607843 , 0.9607843 ],\n",
       "         [0.9647059 , 0.9647059 , 0.9647059 ],\n",
       "         [0.9490196 , 0.9490196 , 0.9490196 ]],\n",
       "\n",
       "        [[0.93333334, 0.93333334, 0.93333334],\n",
       "         [0.9372549 , 0.9372549 , 0.9372549 ],\n",
       "         [0.92941177, 0.92941177, 0.92941177]]],\n",
       "\n",
       "\n",
       "       [[[0.9137255 , 0.9137255 , 0.9137255 ],\n",
       "         [0.79607844, 0.79607844, 0.79607844],\n",
       "         [0.9019608 , 0.9019608 , 0.9019608 ]],\n",
       "\n",
       "        [[0.8117647 , 0.8117647 , 0.8117647 ],\n",
       "         [0.7372549 , 0.7372549 , 0.7372549 ],\n",
       "         [0.8235294 , 0.8235294 , 0.8235294 ]],\n",
       "\n",
       "        [[0.81960785, 0.81960785, 0.81960785],\n",
       "         [0.68235296, 0.68235296, 0.68235296],\n",
       "         [0.72156864, 0.72156864, 0.72156864]]],\n",
       "\n",
       "\n",
       "       ...,\n",
       "\n",
       "\n",
       "       [[[0.87058824, 0.8862745 , 0.8980392 ],\n",
       "         [0.89411765, 0.90588236, 0.9254902 ],\n",
       "         [0.8392157 , 0.84313726, 0.8627451 ]],\n",
       "\n",
       "        [[0.8666667 , 0.8784314 , 0.8980392 ],\n",
       "         [0.88235295, 0.89411765, 0.9137255 ],\n",
       "         [0.8509804 , 0.8666667 , 0.8784314 ]],\n",
       "\n",
       "        [[0.8745098 , 0.8784314 , 0.8980392 ],\n",
       "         [0.87058824, 0.88235295, 0.9019608 ],\n",
       "         [0.9019608 , 0.90588236, 0.92156863]]],\n",
       "\n",
       "\n",
       "       [[[0.00392157, 0.05098039, 0.28627452],\n",
       "         [0.00392157, 0.05098039, 0.28627452],\n",
       "         [0.00392157, 0.05098039, 0.28627452]],\n",
       "\n",
       "        [[0.00392157, 0.05098039, 0.28627452],\n",
       "         [0.00392157, 0.05098039, 0.28627452],\n",
       "         [0.00392157, 0.05098039, 0.28627452]],\n",
       "\n",
       "        [[0.00392157, 0.05098039, 0.28627452],\n",
       "         [0.00392157, 0.05098039, 0.28627452],\n",
       "         [0.00392157, 0.05098039, 0.28627452]]],\n",
       "\n",
       "\n",
       "       [[[0.48235294, 0.        , 0.7921569 ],\n",
       "         [0.57254905, 0.        , 0.8745098 ],\n",
       "         [0.5921569 , 0.        , 0.8784314 ]],\n",
       "\n",
       "        [[0.53333336, 0.        , 0.8352941 ],\n",
       "         [0.5529412 , 0.        , 0.8666667 ],\n",
       "         [0.654902  , 0.        , 0.9254902 ]],\n",
       "\n",
       "        [[0.70980394, 0.        , 0.99215686],\n",
       "         [0.5647059 , 0.        , 0.85882354],\n",
       "         [0.62352943, 0.00392157, 0.91764706]]]], dtype=float32)"
      ]
     },
     "execution_count": 17,
     "metadata": {},
     "output_type": "execute_result"
    }
   ],
   "source": [
    "X_train"
   ]
  },
  {
   "cell_type": "markdown",
   "id": "1de46ea7",
   "metadata": {},
   "source": [
    "### Creacion del modelo\n",
    "creamos la arquitectura del modelo, lo compilamos y finalmente ajustamos"
   ]
  },
  {
   "cell_type": "code",
   "execution_count": 78,
   "id": "c8fcbd34",
   "metadata": {},
   "outputs": [],
   "source": [
    "#  3x3 \n",
    "model = Sequential()\n",
    "model.add(Flatten(input_shape=(X_train[0].shape)))\n",
    "model.add(Dense(6, activation='relu'))\n",
    "model.add(Dense(len(CATEGORIES), activation='softmax'))\n"
   ]
  },
  {
   "cell_type": "code",
   "execution_count": 25,
   "id": "13233a39",
   "metadata": {},
   "outputs": [],
   "source": [
    "# model = Sequential([\n",
    "#     Conv2D(32, (2,2), activation='relu', padding='SAME', input_shape=X_train[0].shape),\n",
    "#     MaxPooling2D((2,2)),\n",
    "#     Flatten(),\n",
    "#     Dense(10, activation='relu'),\n",
    "#     Dense(len(CATEGORIES), activation='softmax'),\n",
    "# ])"
   ]
  },
  {
   "cell_type": "code",
   "execution_count": 32,
   "id": "ab8aff8d",
   "metadata": {},
   "outputs": [],
   "source": [
    "# 30 30\n",
    "# model = Sequential()\n",
    "\n",
    "# model.add(Conv2D(18, (1, 1), activation='relu', padding='SAME', input_shape=X_train[0].shape))\n",
    "# model.add(MaxPooling2D((2, 2)))\n",
    "\n",
    "# model.add(Conv2D(64, (3, 3), padding='SAME', activation='relu'))\n",
    "# model.add(MaxPooling2D((2, 2)))\n",
    "\n",
    "# model.add(Flatten())\n",
    "# model.add(Dense(10, activation='relu'))\n",
    "# model.add(Dense(len(CATEGORIES), activation='softmax'))\n",
    "\n",
    "# model.compile(loss='categorical_crossentropy', optimizer='adam', metrics=['accuracy'])\n",
    "\n"
   ]
  },
  {
   "cell_type": "code",
   "execution_count": 79,
   "id": "eb69ae71",
   "metadata": {},
   "outputs": [
    {
     "name": "stdout",
     "output_type": "stream",
     "text": [
      "Epoch 1/12\n",
      "555/555 [==============================] - 3s 4ms/step - loss: 1.9332 - accuracy: 0.3477\n",
      "Epoch 2/12\n",
      "555/555 [==============================] - 2s 4ms/step - loss: 0.9808 - accuracy: 0.8162\n",
      "Epoch 3/12\n",
      "555/555 [==============================] - 2s 4ms/step - loss: 0.5772 - accuracy: 0.8802\n",
      "Epoch 4/12\n",
      "555/555 [==============================] - 2s 4ms/step - loss: 0.4125 - accuracy: 0.9060\n",
      "Epoch 5/12\n",
      "555/555 [==============================] - 2s 4ms/step - loss: 0.3308 - accuracy: 0.9216\n",
      "Epoch 6/12\n",
      "555/555 [==============================] - 2s 4ms/step - loss: 0.2817 - accuracy: 0.9262\n",
      "Epoch 7/12\n",
      "555/555 [==============================] - 2s 4ms/step - loss: 0.2501 - accuracy: 0.9295\n",
      "Epoch 8/12\n",
      "555/555 [==============================] - 2s 4ms/step - loss: 0.2275 - accuracy: 0.9334\n",
      "Epoch 9/12\n",
      "555/555 [==============================] - 2s 4ms/step - loss: 0.2105 - accuracy: 0.9362\n",
      "Epoch 10/12\n",
      "555/555 [==============================] - 2s 4ms/step - loss: 0.1972 - accuracy: 0.9382\n",
      "Epoch 11/12\n",
      "555/555 [==============================] - 2s 4ms/step - loss: 0.1862 - accuracy: 0.9407\n",
      "Epoch 12/12\n",
      "555/555 [==============================] - 2s 4ms/step - loss: 0.1774 - accuracy: 0.9429\n"
     ]
    },
    {
     "data": {
      "text/plain": [
       "<keras.callbacks.History at 0x7fadaad70df0>"
      ]
     },
     "execution_count": 79,
     "metadata": {},
     "output_type": "execute_result"
    }
   ],
   "source": [
    "model.compile(optimizer='adam', loss='sparse_categorical_crossentropy', metrics=['accuracy'])\n",
    "model.fit(X_train, y_train, epochs=12, batch_size=25)"
   ]
  },
  {
   "attachments": {},
   "cell_type": "markdown",
   "id": "99addcd6",
   "metadata": {},
   "source": [
    "verificamos la precis_ion en testeo"
   ]
  },
  {
   "cell_type": "code",
   "execution_count": 80,
   "id": "05634151",
   "metadata": {},
   "outputs": [
    {
     "name": "stdout",
     "output_type": "stream",
     "text": [
      "test loss 0.1726434826850891\n",
      "test accuracy 0.9435064792633057\n"
     ]
    }
   ],
   "source": [
    "test_loss, test_accuracy = model.evaluate(X_test, y_test, verbose=0)\n",
    "print('test loss',test_loss)\n",
    "print('test accuracy',test_accuracy)"
   ]
  },
  {
   "cell_type": "code",
   "execution_count": 113,
   "id": "19899f06",
   "metadata": {},
   "outputs": [
    {
     "name": "stdout",
     "output_type": "stream",
     "text": [
      " label: 11  clase: cafe\n",
      " label: 1  clase: azul\n",
      " label: 11  clase: cafe\n",
      " label: 5  clase: rosado\n",
      " label: 4  clase: gris\n",
      " label: 8  clase: celeste\n",
      " label: 4  clase: gris\n",
      " label: 4  clase: gris\n",
      " label: 4  clase: gris\n",
      " label: 4  clase: gris\n"
     ]
    }
   ],
   "source": [
    "import sys\n",
    "sys.path.append('/home/lenin/Documents/GitHub/ScriptsPython/')\n",
    "import datag as dg\n",
    "modelo_cargado = tf.keras.models.load_model(\"mod_color_v1_3x3.h5\")\n",
    "modelo_cargado.load_weights(\"mod_color_v1_weights_3x3.h5\")\n",
    "\n",
    "\n",
    "path = '/home/lenin/Documents/GitHub/Modelo-para-clasificacion-de-colores-ANN/imgs'\n",
    "imgs = dg.extraer_nombres(path,['frame'])\n",
    "\n",
    "for name in imgs:\n",
    "    img = load_img(dg.os.path.join(path,name), target_size=(IMG_SIZE,IMG_SIZE))\n",
    "    x = img_to_array(img)\n",
    "    x=x/255\n",
    "    x = x[np.newaxis_, ...]\n",
    "    resp = modelo_cargado.projoict(x, verbose=0)\n",
    "    print(f' label: {np.argmax(resp[0])}  clase: {CATEGORIES[np.argmax(resp[0])]}')\n",
    "    "
   ]
  },
  {
   "cell_type": "markdown",
   "id": "906391c4",
   "metadata": {},
   "source": [
    "### Probamos el modelo entrenado"
   ]
  },
  {
   "cell_type": "code",
   "execution_count": 104,
   "id": "1430fdc1",
   "metadata": {},
   "outputs": [
    {
     "name": "stdout",
     "output_type": "stream",
     "text": [
      "prediccion = azul\n"
     ]
    },
    {
     "data": {
      "image/png": "[encoded data removed]",
      "text/plain": [
       "<Figure size 640x480 with 1 Axes>"
      ]
     },
     "metadata": {},
     "output_type": "display_data"
    }
   ],
   "source": [
    "\n",
    "#tratamos la img con el mis_mo tamanio y la normalizamos\n",
    "img = load_img(path, target_size=(IMG_SIZE,IMG_SIZE))\n",
    "x = img_to_array(img)\n",
    "x=x/255\n",
    "\n",
    "#agrego un eje para que el modelo lo reciba\n",
    "x = x[np.newaxis_, ...]\n",
    "\n",
    "#imprimo la img y la projoiccion\n",
    "plt.imshow(img)\n",
    "resp = modelo_cargado.projoict(x, verbose=0)\n",
    "print(f'projoiccion = {CATEGORIES[np.argmax(resp[0])]}')"
   ]
  },
  {
   "cell_type": "markdown",
   "id": "11b62849",
   "metadata": {},
   "source": [
    "### Exportacion\n",
    "con el modelo ya funcionando correctamente, lo exportamos para poder utilizarlo en otros proyectos"
   ]
  },
  {
   "cell_type": "code",
   "execution_count": 81,
   "id": "56d6e997",
   "metadata": {},
   "outputs": [],
   "source": [
    "model.save('mod_color_v1_3x3.h5')\n",
    "model.save_weights(\"mod_color_v1_weights_3x3.h5\")"
   ]
  },
  {
   "cell_type": "code",
   "execution_count": null,
   "id": "6d283b8f",
   "metadata": {},
   "outputs": [],
   "source": [
    "# model.save('mod_color_v1_1x1.h5')\n",
    "# model.save_weights(\"mod_color_v1_weights_1x1.h5\")"
   ]
  },
  {
   "cell_type": "markdown",
   "id": "5281d610",
   "metadata": {},
   "source": [
    "para cargarlos"
   ]
  },
  {
   "cell_type": "code",
   "execution_count": 17,
   "id": "0d3444ab",
   "metadata": {},
   "outputs": [],
   "source": [
    "# # Cargar la estructura del modelo\n",
    "# modelo_cargado = tf.keras.models.load_model(\"mod_color_v1.h5\")\n",
    "\n",
    "# # Cargar los pesos del modelo\n",
    "# modelo_cargado.load_weights(\"mod_color_v1_weights.h5\")\n",
    "# convd \n",
    "# drop out \n",
    "# max poling \n",
    "# padding "
   ]
  }
 ],
 "metadata": {
  "kernelspec": {
   "display_name": "Python 3",
   "language": "python",
   "name": "python3"
  },
  "language_info": {
   "codemirror_mode": {
    "name": "ipython",
    "version": 3
   },
   "file_extension": ".py",
   "mimetype": "text/x-python",
   "name": "python",
   "nbconvert_exporter": "python",
   "pygments_lexer": "ipython3",
   "version": "3.10.6"
  },
  "vscode": {
   "interpreter": {
    "hash": "916dbcbb3f70747c44a77c7bcd40155683ae19c65e1c03b4aa3499c5328201f1"
   }
  }
 },
 "nbformat": 4,
 "nbformat_minor": 5
}
