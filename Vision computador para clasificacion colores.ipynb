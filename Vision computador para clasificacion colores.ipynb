{
 "cells": [
  {
   "cell_type": "markdown",
   "id": "0835feef",
   "metadata": {},
   "source": [
    "### Librerias"
   ]
  },
  {
   "cell_type": "code",
   "execution_count": 69,
   "id": "9ec9cf91",
   "metadata": {},
   "outputs": [],
   "source": [
    "import warnings\n",
    "warnings.filterwarnings('ignore')\n",
    "import cv2\n",
    "import matplotlib.pyplot as plt\n",
    "from tensorflow.keras.preprocessing.image import load_img, img_to_array\n",
    "import numpy as np\n",
    "import tensorflow as tf\n",
    "from multiprocessing import Process\n",
    "import threading\n"
   ]
  },
  {
   "cell_type": "markdown",
   "id": "29524fd7",
   "metadata": {},
   "source": [
    "### funciones para preprocesar la img"
   ]
  },
  {
   "cell_type": "code",
   "execution_count": null,
   "id": "7c9f0782",
   "metadata": {},
   "outputs": [],
   "source": [
    "def redimensionar(img, nuevo_ancho, nuevo_alto):\n",
    "    puntos_bajar = (nuevo_ancho, nuevo_alto)\n",
    "    new_img = cv2.resize(img, puntos_bajar, interpolation= cv2.INTER_LINEAR)\n",
    "    return new_img"
   ]
  },
  {
   "cell_type": "code",
   "execution_count": 52,
   "id": "3c584c54",
   "metadata": {},
   "outputs": [],
   "source": [
    "def guardar_frame(frame):\n",
    "    Datos='/home/lenin/Documents/GitHub/Modelo-para-clasificacion-de-colores-ANN/imgs/frame.jpg'\n",
    "    cv2.imwrite(Datos, frame)"
   ]
  },
  {
   "cell_type": "code",
   "execution_count": 56,
   "id": "6b1a7d1b",
   "metadata": {},
   "outputs": [],
   "source": [
    "def dividir_img(img,nuevo_ancho, nuevo_alto, n_filas, n_column):\n",
    "#     nuevo_ancho = 200\n",
    "#     nuevo_alto = 200\n",
    "\n",
    "    new_img = redimensionar(img, nuevo_ancho, nuevo_alto)\n",
    "    # guardar_frame(new_img)\n",
    "    img_base = new_img\n",
    "    imgs=[]\n",
    "    \n",
    "    height, width, channels = new_img.shape\n",
    "    CROP_W_SIZE  = n_filas\n",
    "    CROP_H_SIZE = n_column\n",
    "\n",
    "    for ih in range(CROP_H_SIZE ):\n",
    "        for iw in range(CROP_W_SIZE ):\n",
    "\n",
    "            x = width//CROP_W_SIZE * iw \n",
    "            y = height//CROP_H_SIZE * ih\n",
    "            h = (height // CROP_H_SIZE)\n",
    "            w = (width // CROP_W_SIZE )\n",
    "            yy = int(y+h)\n",
    "            xx = int(x+w)\n",
    "            temporal = img_base[y:yy, x:xx]\n",
    "            imgs.append(temporal)\n",
    "            img_base = new_img\n",
    "        \n",
    "    return imgs"
   ]
  },
  {
   "cell_type": "code",
   "execution_count": null,
   "id": "82fc2600",
   "metadata": {},
   "outputs": [],
   "source": [
    "def guardar_imgs(imgs):\n",
    "    for i in range(len(imgs)):\n",
    "        Datos='/home/lenin/Documents/GitHub/Modelo-para-clasificacion-de-colores-ANN/imgs/img{}.jpg'.format(i)\n",
    "        cv2.imwrite(Datos, imgs[i])"
   ]
  },
  {
   "cell_type": "code",
   "execution_count": null,
   "id": "ff3a842b",
   "metadata": {},
   "outputs": [],
   "source": [
    "def predecir_imgs(modelo, imgs):\n",
    "    clases = [] \n",
    "    vector = ['blanco', 'verde', 'gris', 'negro', 'azul', 'amarillo', 'cafe', 'naranja', 'rosado', 'morado', 'rojo', 'celeste']\n",
    "    for i in range(len(imgs)):\n",
    "        img = redimensionar(imgs[i],5,5)\n",
    "        img = img[np.newaxis, ...]\n",
    "        respuesta = modelo.predict(img, verbose=0)\n",
    "        posicion = np.argmax(respuesta[0])\n",
    "        if not vector[posicion] in clases:\n",
    "            clases.append(vector[posicion])\n",
    "    return clases"
   ]
  },
  {
   "cell_type": "code",
   "execution_count": null,
   "id": "6f9affbc",
   "metadata": {},
   "outputs": [],
   "source": [
    "# path = '/home/lenin/Pictures/fondo.jpg'\n",
    "# img = load_img(path, target_size=(300,400))\n",
    "# img = img_to_array(img)\n",
    "# imgs = dividir_img(img, 200, 200, 5, 5)"
   ]
  },
  {
   "cell_type": "code",
   "execution_count": null,
   "id": "f95092c4",
   "metadata": {},
   "outputs": [],
   "source": [
    "# modelo = tf.keras.models.load_model(\"mod_color_v1.h5\")\n",
    "# modelo.load_weights(\"mod_color_v1_weights.h5\")\n",
    "# clases = predecir_imgs(modelo, imgs)\n",
    "# print(clases)"
   ]
  },
  {
   "cell_type": "code",
   "execution_count": 43,
   "id": "8b682e1f",
   "metadata": {},
   "outputs": [],
   "source": [
    "def adjust_brightness(img, alpha, beta):\n",
    "    return cv2.addWeighted(img, alpha, np.zeros(img.shape, img.dtype), 0, beta)"
   ]
  },
  {
   "cell_type": "markdown",
   "id": "de37af4d",
   "metadata": {},
   "source": [
    "### Preparo cv2"
   ]
  },
  {
   "cell_type": "code",
   "execution_count": 75,
   "id": "c22e8cc1",
   "metadata": {},
   "outputs": [
    {
     "name": "stdout",
     "output_type": "stream",
     "text": [
      "celda 3\n"
     ]
    }
   ],
   "source": [
    "# 0 camara predeterminada\n",
    "cap = cv2.VideoCapture(0)\n",
    "imgs = []\n",
    "clases = []\n",
    "modelo = tf.keras.models.load_model(\"mod_color_v1.h5\")\n",
    "modelo.load_weights(\"mod_color_v1_weights.h5\")\n",
    "nuevo_size = 15\n",
    "celda = nuevo_size // 5\n",
    "crear_hilo = True\n",
    "print(f'celda {celda}')\n",
    "\n",
    "c=0\n",
    "def procesamiento_paralelo(frame):\n",
    "    try:\n",
    "        imgs = dividir_img(frame, nuevo_size, nuevo_size, celda, celda)\n",
    "        # guardar_imgs(imgs)\n",
    "        clases = predecir_imgs(modelo, imgs)\n",
    "        print(f\"\\rColores detectados: {clases}\", end=\" \")\n",
    "    except Exception as e:\n",
    "        print(\"Error en procesamiento paralelo:\", e)\n",
    "    \n",
    "        \n",
    "while True:\n",
    "    # Capturar un marco\n",
    "    ret, frame = cap.read()\n",
    "    \n",
    "    #volteo el frame\n",
    "    frame = cv2.flip(frame, 1)\n",
    "    frame = adjust_brightness(frame, 1.7, 0.1)\n",
    "    \n",
    "    # muestro la ventana\n",
    "    cv2.imshow('frame', frame)\n",
    "\n",
    "    # Salir si se presiona 'esc'\n",
    "    key = cv2.waitKey(1)\n",
    "    if key == 27:\n",
    "        break\n",
    "    # continue\n",
    "    if c >= 30:\n",
    "        c=0\n",
    "        # procesamiento_paralelo(frame)\n",
    "        # print(frame.shape)\n",
    "        procesamiento_paralelo(frame)\n",
    "        \n",
    "    c+=1\n",
    "\n",
    "cap.release()\n",
    "cv2.destroyAllWindows()\n"
   ]
  }
 ],
 "metadata": {
  "kernelspec": {
   "display_name": "Python 3",
   "language": "python",
   "name": "python3"
  },
  "language_info": {
   "codemirror_mode": {
    "name": "ipython",
    "version": 3
   },
   "file_extension": ".py",
   "mimetype": "text/x-python",
   "name": "python",
   "nbconvert_exporter": "python",
   "pygments_lexer": "ipython3",
   "version": "3.10.6"
  },
  "vscode": {
   "interpreter": {
    "hash": "916dbcbb3f70747c44a77c7bcd40155683ae19c65e1c03b4aa3499c5328201f1"
   }
  }
 },
 "nbformat": 4,
 "nbformat_minor": 5
}
