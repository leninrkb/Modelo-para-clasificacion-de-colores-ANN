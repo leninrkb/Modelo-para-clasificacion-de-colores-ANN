{
 "cells": [
  {
   "cell_type": "markdown",
   "id": "959ad801",
   "metadata": {},
   "source": [
    "### importamos las librerias a utilizar"
   ]
  },
  {
   "cell_type": "code",
   "execution_count": 32,
   "id": "ab0dac45",
   "metadata": {},
   "outputs": [],
   "source": [
    "import warnings\n",
    "warnings.filterwarnings('ignore')"
   ]
  },
  {
   "cell_type": "code",
   "execution_count": 33,
   "id": "3dafba7d",
   "metadata": {},
   "outputs": [],
   "source": [
    "import tensorflow as tf\n",
    "import numpy as np\n",
    "import matplotlib.pyplot as plt\n",
    "from tensorflow.keras.models import Sequential\n",
    "from tensorflow.keras.layers import Dense, Flatten, Conv2D, MaxPooling2D, Input, Dropout\n",
    "from tensorflow.keras.preprocessing.image import load_img, img_to_array\n",
    "from sklearn.model_selection import train_test_split\n",
    "import os"
   ]
  },
  {
   "cell_type": "markdown",
   "id": "8012439b",
   "metadata": {},
   "source": [
    "### Preparacion de espacio de trabajo\n",
    "\n",
    "especificamos la ruta de nuestro dataset, un arreglo para guardar las categorias que vayamos encontrando y la dimension a trabajar con nuestras imagenes"
   ]
  },
  {
   "cell_type": "code",
   "execution_count": 34,
   "id": "6685ab23",
   "metadata": {},
   "outputs": [],
   "source": [
    "DATADIR = '/home/lenin/Documents/datasets/colores/old'\n",
    "CATEGORIES = []\n",
    "IMG_SIZE=25"
   ]
  },
  {
   "cell_type": "markdown",
   "id": "342e7850",
   "metadata": {},
   "source": [
    "recorremos el direcotorio excluyendo las imagenes de testeo"
   ]
  },
  {
   "cell_type": "code",
   "execution_count": 35,
   "id": "a6fba52d",
   "metadata": {},
   "outputs": [
    {
     "name": "stdout",
     "output_type": "stream",
     "text": [
      "categorias encontradas: ['azul', 'rojo', 'amarillo', 'rosado', 'celeste', 'blanco', 'cafe']\n",
      " total: 7\n"
     ]
    }
   ],
   "source": [
    "negative = []\n",
    "for cate in os.listdir(DATADIR):\n",
    "    if cate in negative: continue\n",
    "    CATEGORIES.append(cate)\n",
    "print(f'categorias encontradas: {CATEGORIES}\\n total: {len(CATEGORIES)}')"
   ]
  },
  {
   "cell_type": "markdown",
   "id": "639757ce",
   "metadata": {},
   "source": [
    "### Recoleccion de datos\n",
    "recorremos el directorio tomando cada imagen segun su respectiva categoria"
   ]
  },
  {
   "cell_type": "code",
   "execution_count": 36,
   "id": "614c1cc7",
   "metadata": {},
   "outputs": [
    {
     "name": "stdout",
     "output_type": "stream",
     "text": [
      "azul : 0\n",
      "rojo : 1\n",
      "amarillo : 2\n",
      "rosado : 3\n",
      "celeste : 4\n",
      "blanco : 5\n",
      "cafe : 6\n",
      "done\n"
     ]
    }
   ],
   "source": [
    "training_data=[] #var para los datos recolectados\n",
    "labels=0\n",
    "for category in CATEGORIES:\n",
    "    path=os.path.join(DATADIR, category)\n",
    "    for fname in os.listdir(path):\n",
    "        img = load_img((path+'/'+fname), target_size=(IMG_SIZE,IMG_SIZE))\n",
    "        x = img_to_array(img)\n",
    "        x=x/255\n",
    "        training_data.append([x,labels])\n",
    "    print(f'{category} : {labels}')\n",
    "    labels+=1\n",
    "print('done')"
   ]
  },
  {
   "cell_type": "markdown",
   "id": "df437530",
   "metadata": {},
   "source": [
    "verificamos el total de datos que tenemos"
   ]
  },
  {
   "cell_type": "code",
   "execution_count": 37,
   "id": "376f016e",
   "metadata": {},
   "outputs": [
    {
     "name": "stdout",
     "output_type": "stream",
     "text": [
      "10780\n"
     ]
    }
   ],
   "source": [
    "lenofimage = len(training_data)\n",
    "print(lenofimage)"
   ]
  },
  {
   "cell_type": "markdown",
   "id": "cafca375",
   "metadata": {},
   "source": [
    "### Tratamiento de los datos\n",
    "separamos  nuestra data en img-labels y los tratamos con numpy"
   ]
  },
  {
   "cell_type": "code",
   "execution_count": 38,
   "id": "9bf3f7c2",
   "metadata": {},
   "outputs": [
    {
     "name": "stdout",
     "output_type": "stream",
     "text": [
      "done\n"
     ]
    }
   ],
   "source": [
    "X=[]\n",
    "y=[]\n",
    "for img, label in training_data:\n",
    "    X.append(img)\n",
    "    y.append(label)\n",
    "print('done')\n",
    "del training_data"
   ]
  },
  {
   "cell_type": "markdown",
   "id": "9a0a4673",
   "metadata": {},
   "source": [
    "verificamos la forma de nuestra data"
   ]
  },
  {
   "cell_type": "code",
   "execution_count": 39,
   "id": "4777655d",
   "metadata": {},
   "outputs": [
    {
     "name": "stdout",
     "output_type": "stream",
     "text": [
      "labels (10780,)\n",
      "img (10780, 25, 25, 3)\n"
     ]
    }
   ],
   "source": [
    "X=np.array(X)\n",
    "y=np.array(y)\n",
    "print('labels',y.shape)\n",
    "print('img',X.shape)"
   ]
  },
  {
   "cell_type": "markdown",
   "id": "8c237d2a",
   "metadata": {},
   "source": [
    "dividimos la data para train y test"
   ]
  },
  {
   "cell_type": "code",
   "execution_count": 40,
   "id": "d7f07e1a",
   "metadata": {},
   "outputs": [
    {
     "name": "stdout",
     "output_type": "stream",
     "text": [
      "train: 8085, test: 2695\n"
     ]
    }
   ],
   "source": [
    "X_train, X_test, y_train, y_test = train_test_split(X,y)\n",
    "print(f'train: {len(X_train)}, test: {len(X_test)}')\n",
    "del X\n",
    "del y"
   ]
  },
  {
   "cell_type": "code",
   "execution_count": 41,
   "id": "5566362f",
   "metadata": {},
   "outputs": [
    {
     "name": "stdout",
     "output_type": "stream",
     "text": [
      "(8085, 25, 25, 3)\n"
     ]
    }
   ],
   "source": [
    "print(X_train.shape)"
   ]
  },
  {
   "cell_type": "markdown",
   "id": "1de46ea7",
   "metadata": {},
   "source": [
    "### Creacion del modelo\n",
    "creamos la arquitectura del modelo, lo compilamos y finalmente ajustamos"
   ]
  },
  {
   "cell_type": "code",
   "execution_count": 42,
   "id": "c8fcbd34",
   "metadata": {},
   "outputs": [],
   "source": [
    "#  3x3 \n",
    "# model = Sequential()\n",
    "# model.add(Flatten(input_shape=(X_train[0].shape)))\n",
    "# model.add(Dense(6, activation='relu'))\n",
    "# model.add(Dense(len(CATEGORIES), activation='softmax'))\n",
    "\n"
   ]
  },
  {
   "cell_type": "code",
   "execution_count": 43,
   "id": "13233a39",
   "metadata": {},
   "outputs": [],
   "source": [
    "# model = Sequential([\n",
    "#     Conv2D(32, (2,2), activation='relu', padding='SAME', input_shape=X_train[0].shape),\n",
    "#     MaxPooling2D((2,2)),\n",
    "#     Flatten(),\n",
    "#     Dense(10, activation='relu'),\n",
    "#     Dense(len(CATEGORIES), activation='softmax'),\n",
    "# ])"
   ]
  },
  {
   "cell_type": "code",
   "execution_count": 44,
   "id": "9fb1f0ff",
   "metadata": {},
   "outputs": [
    {
     "data": {
      "text/plain": [
       "(25, 25, 3)"
      ]
     },
     "execution_count": 44,
     "metadata": {},
     "output_type": "execute_result"
    }
   ],
   "source": [
    "X_train[0].shape"
   ]
  },
  {
   "cell_type": "code",
   "execution_count": 48,
   "id": "ab8aff8d",
   "metadata": {},
   "outputs": [],
   "source": [
    "# 30 30\n",
    "model = Sequential()\n",
    "model.add(Conv2D(16, (2, 2), activation='relu', padding='SAME', input_shape=(X_train[0].shape)))\n",
    "model.add(MaxPooling2D((2, 2)))\n",
    "\n",
    "model.add(Conv2D(32, (2, 2), activation='relu', padding='SAME'))\n",
    "model.add(MaxPooling2D((2, 2)))\n",
    "\n",
    "model.add(Flatten())\n",
    "model.add(Dense(len(CATEGORIES), activation='softmax'))\n",
    "\n"
   ]
  },
  {
   "cell_type": "code",
   "execution_count": 49,
   "id": "eb69ae71",
   "metadata": {},
   "outputs": [
    {
     "name": "stdout",
     "output_type": "stream",
     "text": [
      "Epoch 1/20\n",
      "162/162 [==============================] - 4s 17ms/step - loss: 0.6485 - accuracy: 0.7838\n",
      "Epoch 2/20\n",
      "162/162 [==============================] - 3s 17ms/step - loss: 0.1525 - accuracy: 0.9514\n",
      "Epoch 3/20\n",
      "162/162 [==============================] - 3s 17ms/step - loss: 0.1098 - accuracy: 0.9622\n",
      "Epoch 4/20\n",
      "162/162 [==============================] - 3s 18ms/step - loss: 0.0976 - accuracy: 0.9666\n",
      "Epoch 5/20\n",
      "162/162 [==============================] - 3s 18ms/step - loss: 0.0864 - accuracy: 0.9686\n",
      "Epoch 6/20\n",
      "162/162 [==============================] - 3s 17ms/step - loss: 0.0792 - accuracy: 0.9712\n",
      "Epoch 7/20\n",
      "162/162 [==============================] - 3s 19ms/step - loss: 0.0713 - accuracy: 0.9737\n",
      "Epoch 8/20\n",
      "162/162 [==============================] - 4s 22ms/step - loss: 0.0657 - accuracy: 0.9761\n",
      "Epoch 9/20\n",
      "162/162 [==============================] - 3s 20ms/step - loss: 0.0632 - accuracy: 0.9774\n",
      "Epoch 10/20\n",
      "162/162 [==============================] - 4s 22ms/step - loss: 0.0615 - accuracy: 0.9780\n",
      "Epoch 11/20\n",
      "162/162 [==============================] - 4s 23ms/step - loss: 0.0632 - accuracy: 0.9755\n",
      "Epoch 12/20\n",
      "162/162 [==============================] - 3s 20ms/step - loss: 0.0549 - accuracy: 0.9796\n",
      "Epoch 13/20\n",
      "162/162 [==============================] - 3s 20ms/step - loss: 0.0531 - accuracy: 0.9807\n",
      "Epoch 14/20\n",
      "162/162 [==============================] - 3s 21ms/step - loss: 0.0483 - accuracy: 0.9829\n",
      "Epoch 15/20\n",
      "162/162 [==============================] - 4s 24ms/step - loss: 0.0525 - accuracy: 0.9810\n",
      "Epoch 16/20\n",
      "162/162 [==============================] - 3s 21ms/step - loss: 0.0450 - accuracy: 0.9834\n",
      "Epoch 17/20\n",
      "162/162 [==============================] - 3s 20ms/step - loss: 0.0469 - accuracy: 0.9812\n",
      "Epoch 18/20\n",
      "162/162 [==============================] - 3s 19ms/step - loss: 0.0456 - accuracy: 0.9843\n",
      "Epoch 19/20\n",
      "162/162 [==============================] - 3s 18ms/step - loss: 0.0389 - accuracy: 0.9833\n",
      "Epoch 20/20\n",
      "162/162 [==============================] - 4s 23ms/step - loss: 0.0418 - accuracy: 0.9848\n"
     ]
    },
    {
     "data": {
      "text/plain": [
       "<keras.callbacks.History at 0x7eff3ec41510>"
      ]
     },
     "execution_count": 49,
     "metadata": {},
     "output_type": "execute_result"
    }
   ],
   "source": [
    "model.compile(optimizer='adam', loss='sparse_categorical_crossentropy', metrics=['accuracy'])\n",
    "model.fit(X_train, y_train, epochs=20, batch_size=50)"
   ]
  },
  {
   "cell_type": "markdown",
   "id": "99addcd6",
   "metadata": {},
   "source": [
    "verificamos la precision en testeo"
   ]
  },
  {
   "cell_type": "code",
   "execution_count": 58,
   "id": "05634151",
   "metadata": {},
   "outputs": [
    {
     "name": "stdout",
     "output_type": "stream",
     "text": [
      "test loss 0.09469269961118698\n",
      "test accuracy 0.9653679728507996\n"
     ]
    }
   ],
   "source": [
    "test_loss, test_accuracy = model.evaluate(X_test, y_test, verbose=0)\n",
    "print('test loss',test_loss)\n",
    "print('test accuracy',test_accuracy)"
   ]
  },
  {
   "cell_type": "code",
   "execution_count": 113,
   "id": "19899f06",
   "metadata": {},
   "outputs": [
    {
     "name": "stdout",
     "output_type": "stream",
     "text": [
      " label: 11  clase: cafe\n",
      " label: 1  clase: azul\n",
      " label: 11  clase: cafe\n",
      " label: 5  clase: rosado\n",
      " label: 4  clase: gris\n",
      " label: 8  clase: celeste\n",
      " label: 4  clase: gris\n",
      " label: 4  clase: gris\n",
      " label: 4  clase: gris\n",
      " label: 4  clase: gris\n"
     ]
    }
   ],
   "source": [
    "import sys\n",
    "sys.path.append('/home/lenin/Documents/GitHub/ScriptsPython/')\n",
    "import datag as dg\n",
    "modelo_cargado = tf.keras.models.load_model(\"mod_color_v1_3x3.h5\")\n",
    "modelo_cargado.load_weights(\"mod_color_v1_weights_3x3.h5\")\n",
    "\n",
    "\n",
    "path = '/home/lenin/Documents/GitHub/Modelo-para-clasificacion-de-colores-ANN/imgs'\n",
    "imgs = dg.extraer_nombres(path,['frame'])\n",
    "\n",
    "for name in imgs:\n",
    "    img = load_img(dg.os.path.join(path,name), target_size=(IMG_SIZE,IMG_SIZE))\n",
    "    x = img_to_array(img)\n",
    "    x=x/255\n",
    "    x = x[np.newaxis, ...]\n",
    "    resp = modelo_cargado.predict(x, verbose=0)\n",
    "    print(f' label: {np.argmax(resp[0])}  clase: {CATEGORIES[np.argmax(resp[0])]}')\n",
    "    "
   ]
  },
  {
   "cell_type": "markdown",
   "id": "906391c4",
   "metadata": {},
   "source": [
    "### Probamos el modelo entrenado"
   ]
  },
  {
   "cell_type": "code",
   "execution_count": 104,
   "id": "1430fdc1",
   "metadata": {},
   "outputs": [
    {
     "name": "stdout",
     "output_type": "stream",
     "text": [
      "prediccion = azul\n"
     ]
    },
    {
     "data": {
      "image/png": "[encoded data removed]",
      "text/plain": [
       "<Figure size 640x480 with 1 Axes>"
      ]
     },
     "metadata": {},
     "output_type": "display_data"
    }
   ],
   "source": [
    "\n",
    "#tratamos la img con el mismo tamanio y la normalizamos\n",
    "img = load_img(path, target_size=(IMG_SIZE,IMG_SIZE))\n",
    "x = img_to_array(img)\n",
    "x=x/255\n",
    "\n",
    "#agrego un eje para que el modelo lo reciba\n",
    "x = x[np.newaxis, ...]\n",
    "\n",
    "#imprimo la img y la prediccion\n",
    "plt.imshow(img)\n",
    "resp = modelo_cargado.predict(x, verbose=0)\n",
    "print(f'prediccion = {CATEGORIES[np.argmax(resp[0])]}')"
   ]
  },
  {
   "cell_type": "markdown",
   "id": "11b62849",
   "metadata": {},
   "source": [
    "### Exportacion\n",
    "con el modelo ya funcionando correctamente, lo exportamos para poder utilizarlo en otros proyectos"
   ]
  },
  {
   "cell_type": "code",
   "execution_count": 81,
   "id": "56d6e997",
   "metadata": {},
   "outputs": [],
   "source": [
    "model.save('mod_color_v1_3x3.h5')\n",
    "model.save_weights(\"mod_color_v1_weights_3x3.h5\")"
   ]
  },
  {
   "cell_type": "code",
   "execution_count": null,
   "id": "6d283b8f",
   "metadata": {},
   "outputs": [],
   "source": [
    "# model.save('mod_color_v1_1x1.h5')\n",
    "# model.save_weights(\"mod_color_v1_weights_1x1.h5\")"
   ]
  },
  {
   "cell_type": "markdown",
   "id": "5281d610",
   "metadata": {},
   "source": [
    "para cargarlos"
   ]
  },
  {
   "cell_type": "code",
   "execution_count": 17,
   "id": "0d3444ab",
   "metadata": {},
   "outputs": [],
   "source": [
    "# # Cargar la estructura del modelo\n",
    "# modelo_cargado = tf.keras.models.load_model(\"mod_color_v1.h5\")\n",
    "\n",
    "# # Cargar los pesos del modelo\n",
    "# modelo_cargado.load_weights(\"mod_color_v1_weights.h5\")\n",
    "# convd \n",
    "# drop out \n",
    "# max poling \n",
    "# padding "
   ]
  }
 ],
 "metadata": {
  "kernelspec": {
   "display_name": "Python 3",
   "language": "python",
   "name": "python3"
  },
  "language_info": {
   "codemirror_mode": {
    "name": "ipython",
    "version": 3
   },
   "file_extension": ".py",
   "mimetype": "text/x-python",
   "name": "python",
   "nbconvert_exporter": "python",
   "pygments_lexer": "ipython3",
   "version": "3.10.6"
  },
  "vscode": {
   "interpreter": {
    "hash": "916dbcbb3f70747c44a77c7bcd40155683ae19c65e1c03b4aa3499c5328201f1"
   }
  }
 },
 "nbformat": 4,
 "nbformat_minor": 5
}
