{
 "cells": [
  {
   "cell_type": "markdown",
   "id": "959ad801",
   "metadata": {},
   "source": [
    "### importamos las librerias a utilizar"
   ]
  },
  {
   "cell_type": "code",
   "execution_count": 20,
   "id": "ab0dac45",
   "metadata": {},
   "outputs": [],
   "source": [
    "import tensorflow as tf\n",
    "import numpy as np\n",
    "import matplotlib.pyplot as plt\n",
    "from tensorflow.keras.models import Sequential\n",
    "from tensorflow.keras.layers import Dense, Flatten, Conv2D, MaxPooling2D, Input, Dropout\n",
    "from tensorflow.keras.preprocessing.image import load_img, img_to_array\n",
    "from sklearn.model_selection import train_test_split\n",
    "import os\n",
    "import warnings\n",
    "warnings.filterwarnings('ignore')\n"
   ]
  },
  {
   "cell_type": "markdown",
   "id": "8012439b",
   "metadata": {},
   "source": [
    "### Preparacion de espacio de trabajo\n",
    "\n",
    "especificamos la ruta de nuestro dataset, un arreglo para guardar las categorias que vayamos encontrando y la dimension a trabajar con nuestras imagenes"
   ]
  },
  {
   "cell_type": "code",
   "execution_count": 2,
   "id": "6685ab23",
   "metadata": {},
   "outputs": [],
   "source": [
    "DATADIR = '/home/lenin/Documents/datasets/colores'\n",
    "CATEGORIES = []\n",
    "IMG_SIZE=5"
   ]
  },
  {
   "cell_type": "markdown",
   "id": "342e7850",
   "metadata": {},
   "source": [
    "recorremos el direcotorio excluyendo las imagenes de testeo"
   ]
  },
  {
   "cell_type": "code",
   "execution_count": 3,
   "id": "a6fba52d",
   "metadata": {},
   "outputs": [
    {
     "name": "stdout",
     "output_type": "stream",
     "text": [
      "categorias encontradas: ['morado', 'azul', 'rojo', 'amarillo', 'gris', 'rosado', 'negro', 'naranja', 'celeste', 'verde', 'blanco', 'cafe']\n",
      " total: 12\n"
     ]
    }
   ],
   "source": [
    "for cate in os.listdir(DATADIR):\n",
    "    if cate == 'testimg': continue\n",
    "    CATEGORIES.append(cate)\n",
    "print(f'categorias encontradas: {CATEGORIES}\\n total: {len(CATEGORIES)}')"
   ]
  },
  {
   "cell_type": "markdown",
   "id": "639757ce",
   "metadata": {},
   "source": [
    "### Recoleccion de datos\n",
    "recorremos el directorio tomando cada imagen segun su respectiva categoria"
   ]
  },
  {
   "cell_type": "code",
   "execution_count": 4,
   "id": "614c1cc7",
   "metadata": {},
   "outputs": [
    {
     "name": "stderr",
     "output_type": "stream",
     "text": [
      "/home/lenin/.local/lib/python3.10/site-packages/PIL/Image.py:996: UserWarning: Palette images with Transparency expressed in bytes should be converted to RGBA images\n",
      "  warnings.warn(\n"
     ]
    },
    {
     "name": "stdout",
     "output_type": "stream",
     "text": [
      "done\n"
     ]
    }
   ],
   "source": [
    "training_data=[] #var para los datos recolectados\n",
    "labels=0\n",
    "for category in CATEGORIES:\n",
    "    path=os.path.join(DATADIR, category)\n",
    "    for fname in os.listdir(path):\n",
    "        img = load_img((path+'/'+fname), target_size=(IMG_SIZE,IMG_SIZE))\n",
    "        x = img_to_array(img)\n",
    "        x=x/255\n",
    "        training_data.append([x,labels])\n",
    "    labels+=1\n",
    "print('done')"
   ]
  },
  {
   "cell_type": "markdown",
   "id": "df437530",
   "metadata": {},
   "source": [
    "verificamos el total de datos que tenemos"
   ]
  },
  {
   "cell_type": "code",
   "execution_count": 5,
   "id": "376f016e",
   "metadata": {},
   "outputs": [
    {
     "name": "stdout",
     "output_type": "stream",
     "text": [
      "50400\n"
     ]
    }
   ],
   "source": [
    "lenofimage = len(training_data)\n",
    "print(lenofimage)"
   ]
  },
  {
   "cell_type": "markdown",
   "id": "cafca375",
   "metadata": {},
   "source": [
    "### Tratamiento de los datos\n",
    "separamos  nuestra data en img-labels y los tratamos con numpy"
   ]
  },
  {
   "cell_type": "code",
   "execution_count": 6,
   "id": "9bf3f7c2",
   "metadata": {},
   "outputs": [
    {
     "name": "stdout",
     "output_type": "stream",
     "text": [
      "done\n"
     ]
    }
   ],
   "source": [
    "X=[]\n",
    "y=[]\n",
    "for img, label in training_data:\n",
    "    X.append(img)\n",
    "    y.append(label)\n",
    "print('done')\n",
    "del training_data"
   ]
  },
  {
   "cell_type": "markdown",
   "id": "9a0a4673",
   "metadata": {},
   "source": [
    "verificamos la forma de nuestra data"
   ]
  },
  {
   "cell_type": "code",
   "execution_count": 7,
   "id": "4777655d",
   "metadata": {},
   "outputs": [
    {
     "name": "stdout",
     "output_type": "stream",
     "text": [
      "labels (50400,)\n",
      "img (50400, 5, 5, 3)\n"
     ]
    }
   ],
   "source": [
    "X=np.array(X)\n",
    "y=np.array(y)\n",
    "print('labels',y.shape)\n",
    "print('img',X.shape)"
   ]
  },
  {
   "cell_type": "markdown",
   "id": "8c237d2a",
   "metadata": {},
   "source": [
    "dividimos la data para train y test"
   ]
  },
  {
   "cell_type": "code",
   "execution_count": 8,
   "id": "d7f07e1a",
   "metadata": {},
   "outputs": [
    {
     "name": "stdout",
     "output_type": "stream",
     "text": [
      "train: 37800, test: 12600\n"
     ]
    }
   ],
   "source": [
    "X_train, X_test, y_train, y_test = train_test_split(X,y)\n",
    "print(f'train: {len(X_train)}, test: {len(X_test)}')\n",
    "del X\n",
    "del y"
   ]
  },
  {
   "cell_type": "markdown",
   "id": "1de46ea7",
   "metadata": {},
   "source": [
    "### Creacion del modelo\n",
    "creamos la arquitectura del modelo, lo compilamos y finalmente ajustamos"
   ]
  },
  {
   "cell_type": "code",
   "execution_count": 10,
   "id": "c8fcbd34",
   "metadata": {},
   "outputs": [],
   "source": [
    "# model = Sequential()\n",
    "# model.add(Flatten(input_shape=(X_train[0].shape)))\n",
    "# model.add(Dense(len(CATEGORIES), activation='softmax'))\n"
   ]
  },
  {
   "cell_type": "code",
   "execution_count": 17,
   "id": "13233a39",
   "metadata": {},
   "outputs": [],
   "source": [
    "model = Sequential([\n",
    "    Conv2D(32, (2,2), activation='relu', padding='SAME', input_shape=X_train[0].shape),\n",
    "    MaxPooling2D((2,2)),\n",
    "    Flatten(),\n",
    "    Dense(10, activation='relu'),\n",
    "    Dense(len(CATEGORIES), activation='softmax'),\n",
    "])"
   ]
  },
  {
   "cell_type": "code",
   "execution_count": 47,
   "id": "ab8aff8d",
   "metadata": {},
   "outputs": [],
   "source": [
    "model = Sequential()\n",
    "\n",
    "model.add(Conv2D(32, (3, 3), activation='relu', padding='SAME', input_shape=X_train[0].shape))\n",
    "model.add(MaxPooling2D((2, 2)))\n",
    "\n",
    "\n",
    "model.add(Conv2D(64, (3, 3), padding='SAME', activation='relu'))\n",
    "model.add(MaxPooling2D((2, 2)))\n",
    "\n",
    "model.add(Flatten())\n",
    "\n",
    "model.add(Dense(16, activation='relu'))\n",
    "model.add(Dense(len(CATEGORIES), activation='softmax'))\n",
    "\n",
    "model.compile(loss='categorical_crossentropy', optimizer='adam', metrics=['accuracy'])\n",
    "\n"
   ]
  },
  {
   "cell_type": "code",
   "execution_count": 48,
   "id": "eb69ae71",
   "metadata": {},
   "outputs": [
    {
     "name": "stdout",
     "output_type": "stream",
     "text": [
      "Epoch 1/60\n",
      "945/945 [==============================] - 4s 3ms/step - loss: 0.6832 - accuracy: 0.7771\n",
      "Epoch 2/60\n",
      "945/945 [==============================] - 3s 3ms/step - loss: 0.3725 - accuracy: 0.8652\n",
      "Epoch 3/60\n",
      "945/945 [==============================] - 3s 3ms/step - loss: 0.3485 - accuracy: 0.8713\n",
      "Epoch 4/60\n",
      "945/945 [==============================] - 3s 3ms/step - loss: 0.3361 - accuracy: 0.8741\n",
      "Epoch 5/60\n",
      "945/945 [==============================] - 4s 4ms/step - loss: 0.3253 - accuracy: 0.8775\n",
      "Epoch 6/60\n",
      "945/945 [==============================] - 3s 3ms/step - loss: 0.3127 - accuracy: 0.8825\n",
      "Epoch 7/60\n",
      "945/945 [==============================] - 3s 3ms/step - loss: 0.3074 - accuracy: 0.8834\n",
      "Epoch 8/60\n",
      "945/945 [==============================] - 3s 3ms/step - loss: 0.3008 - accuracy: 0.8846\n",
      "Epoch 9/60\n",
      "945/945 [==============================] - 3s 3ms/step - loss: 0.2928 - accuracy: 0.8889\n",
      "Epoch 10/60\n",
      "945/945 [==============================] - 3s 3ms/step - loss: 0.2885 - accuracy: 0.8906\n",
      "Epoch 11/60\n",
      "945/945 [==============================] - 3s 3ms/step - loss: 0.2861 - accuracy: 0.8913\n",
      "Epoch 12/60\n",
      "945/945 [==============================] - 3s 3ms/step - loss: 0.2816 - accuracy: 0.8919\n",
      "Epoch 13/60\n",
      "945/945 [==============================] - 3s 3ms/step - loss: 0.2773 - accuracy: 0.8934\n",
      "Epoch 14/60\n",
      "945/945 [==============================] - 3s 3ms/step - loss: 0.2748 - accuracy: 0.8948\n",
      "Epoch 15/60\n",
      "945/945 [==============================] - 3s 3ms/step - loss: 0.2741 - accuracy: 0.8953\n",
      "Epoch 16/60\n",
      "945/945 [==============================] - 3s 3ms/step - loss: 0.2672 - accuracy: 0.8985\n",
      "Epoch 17/60\n",
      "945/945 [==============================] - 3s 3ms/step - loss: 0.2649 - accuracy: 0.8987\n",
      "Epoch 18/60\n",
      "945/945 [==============================] - 3s 3ms/step - loss: 0.2606 - accuracy: 0.9014\n",
      "Epoch 19/60\n",
      "945/945 [==============================] - 3s 3ms/step - loss: 0.2580 - accuracy: 0.9020\n",
      "Epoch 20/60\n",
      "945/945 [==============================] - 3s 3ms/step - loss: 0.2582 - accuracy: 0.9027\n",
      "Epoch 21/60\n",
      "945/945 [==============================] - 3s 3ms/step - loss: 0.2540 - accuracy: 0.9037\n",
      "Epoch 22/60\n",
      "945/945 [==============================] - 3s 3ms/step - loss: 0.2469 - accuracy: 0.9057\n",
      "Epoch 23/60\n",
      "945/945 [==============================] - 3s 3ms/step - loss: 0.2472 - accuracy: 0.9051\n",
      "Epoch 24/60\n",
      "945/945 [==============================] - 3s 3ms/step - loss: 0.2458 - accuracy: 0.9067\n",
      "Epoch 25/60\n",
      "945/945 [==============================] - 3s 3ms/step - loss: 0.2429 - accuracy: 0.9087\n",
      "Epoch 26/60\n",
      "945/945 [==============================] - 3s 3ms/step - loss: 0.2407 - accuracy: 0.9082\n",
      "Epoch 27/60\n",
      "945/945 [==============================] - 3s 3ms/step - loss: 0.2420 - accuracy: 0.9077\n",
      "Epoch 28/60\n",
      "945/945 [==============================] - 3s 3ms/step - loss: 0.2382 - accuracy: 0.9092\n",
      "Epoch 29/60\n",
      "945/945 [==============================] - 3s 3ms/step - loss: 0.2361 - accuracy: 0.9091\n",
      "Epoch 30/60\n",
      "945/945 [==============================] - 3s 3ms/step - loss: 0.2339 - accuracy: 0.9120\n",
      "Epoch 31/60\n",
      "945/945 [==============================] - 3s 3ms/step - loss: 0.2326 - accuracy: 0.9107\n",
      "Epoch 32/60\n",
      "945/945 [==============================] - 3s 3ms/step - loss: 0.2280 - accuracy: 0.9133\n",
      "Epoch 33/60\n",
      "945/945 [==============================] - 3s 3ms/step - loss: 0.2282 - accuracy: 0.9134\n",
      "Epoch 34/60\n",
      "945/945 [==============================] - 3s 3ms/step - loss: 0.2249 - accuracy: 0.9142\n",
      "Epoch 35/60\n",
      "945/945 [==============================] - 3s 3ms/step - loss: 0.2256 - accuracy: 0.9133\n",
      "Epoch 36/60\n",
      "945/945 [==============================] - 3s 3ms/step - loss: 0.2238 - accuracy: 0.9162\n",
      "Epoch 37/60\n",
      "945/945 [==============================] - 3s 3ms/step - loss: 0.2202 - accuracy: 0.9160\n",
      "Epoch 38/60\n",
      "945/945 [==============================] - 3s 3ms/step - loss: 0.2222 - accuracy: 0.9173\n",
      "Epoch 39/60\n",
      "945/945 [==============================] - 3s 3ms/step - loss: 0.2192 - accuracy: 0.9162\n",
      "Epoch 40/60\n",
      "945/945 [==============================] - 3s 3ms/step - loss: 0.2182 - accuracy: 0.9168\n",
      "Epoch 41/60\n",
      "945/945 [==============================] - 3s 3ms/step - loss: 0.2151 - accuracy: 0.9190\n",
      "Epoch 42/60\n",
      "945/945 [==============================] - 3s 3ms/step - loss: 0.2155 - accuracy: 0.9190\n",
      "Epoch 43/60\n",
      "945/945 [==============================] - 3s 3ms/step - loss: 0.2113 - accuracy: 0.9206\n",
      "Epoch 44/60\n",
      "945/945 [==============================] - 3s 3ms/step - loss: 0.2142 - accuracy: 0.9194\n",
      "Epoch 45/60\n",
      "945/945 [==============================] - 3s 3ms/step - loss: 0.2104 - accuracy: 0.9212\n",
      "Epoch 46/60\n",
      "945/945 [==============================] - 3s 3ms/step - loss: 0.2103 - accuracy: 0.9217\n",
      "Epoch 47/60\n",
      "945/945 [==============================] - 3s 3ms/step - loss: 0.2092 - accuracy: 0.9210\n",
      "Epoch 48/60\n",
      "945/945 [==============================] - 3s 3ms/step - loss: 0.2069 - accuracy: 0.9220\n",
      "Epoch 49/60\n",
      "945/945 [==============================] - 3s 3ms/step - loss: 0.2057 - accuracy: 0.9228\n",
      "Epoch 50/60\n",
      "945/945 [==============================] - 3s 3ms/step - loss: 0.2020 - accuracy: 0.9255\n",
      "Epoch 51/60\n",
      "945/945 [==============================] - 3s 3ms/step - loss: 0.2034 - accuracy: 0.9243\n",
      "Epoch 52/60\n",
      "945/945 [==============================] - 3s 3ms/step - loss: 0.2012 - accuracy: 0.9253\n",
      "Epoch 53/60\n",
      "945/945 [==============================] - 3s 3ms/step - loss: 0.1990 - accuracy: 0.9253\n",
      "Epoch 54/60\n",
      "945/945 [==============================] - 3s 3ms/step - loss: 0.1980 - accuracy: 0.9280\n",
      "Epoch 55/60\n",
      "945/945 [==============================] - 3s 3ms/step - loss: 0.1987 - accuracy: 0.9256\n",
      "Epoch 56/60\n",
      "945/945 [==============================] - 3s 3ms/step - loss: 0.1973 - accuracy: 0.9266\n",
      "Epoch 57/60\n",
      "945/945 [==============================] - 3s 3ms/step - loss: 0.1955 - accuracy: 0.9271\n",
      "Epoch 58/60\n",
      "945/945 [==============================] - 3s 3ms/step - loss: 0.1953 - accuracy: 0.9263\n",
      "Epoch 59/60\n",
      "945/945 [==============================] - 3s 3ms/step - loss: 0.1912 - accuracy: 0.9290\n",
      "Epoch 60/60\n",
      "945/945 [==============================] - 3s 3ms/step - loss: 0.1915 - accuracy: 0.9283\n"
     ]
    },
    {
     "data": {
      "text/plain": [
       "<keras.callbacks.History at 0x7fb43f491480>"
      ]
     },
     "execution_count": 48,
     "metadata": {},
     "output_type": "execute_result"
    }
   ],
   "source": [
    "model.compile(optimizer='adam', loss='sparse_categorical_crossentropy', metrics=['accuracy'])\n",
    "model.fit(X_train, y_train, epochs=60, batch_size=40)"
   ]
  },
  {
   "cell_type": "markdown",
   "id": "99addcd6",
   "metadata": {},
   "source": [
    "verificamos la precision en testeo"
   ]
  },
  {
   "cell_type": "code",
   "execution_count": 49,
   "id": "05634151",
   "metadata": {},
   "outputs": [
    {
     "name": "stdout",
     "output_type": "stream",
     "text": [
      "test loss 0.20686516165733337\n",
      "test accuracy 0.9254761934280396\n"
     ]
    }
   ],
   "source": [
    "test_loss, test_accuracy = model.evaluate(X_test, y_test, verbose=0)\n",
    "print('test loss',test_loss)\n",
    "print('test accuracy',test_accuracy)"
   ]
  },
  {
   "cell_type": "markdown",
   "id": "906391c4",
   "metadata": {},
   "source": [
    "### Probamos el modelo entrenado"
   ]
  },
  {
   "cell_type": "code",
   "execution_count": 60,
   "id": "1430fdc1",
   "metadata": {},
   "outputs": [
    {
     "name": "stdout",
     "output_type": "stream",
     "text": [
      "prediccion = cafe\n"
     ]
    },
    {
     "data": {
      "image/png": "[encoded data removed]",
      "text/plain": [
       "<Figure size 640x480 with 1 Axes>"
      ]
     },
     "metadata": {},
     "output_type": "display_data"
    }
   ],
   "source": [
    "#ruta a nuestras imagenes de test en el directorio, no de la data preparada\n",
    "path = DATADIR + '/testimg' + '/17.jpeg' \n",
    "\n",
    "#tratamos la img con el mismo tamanio y la normalizamos\n",
    "img = load_img(path, target_size=(IMG_SIZE,IMG_SIZE))\n",
    "x = img_to_array(img)\n",
    "x=x/255\n",
    "\n",
    "#agrego un eje para que el modelo lo reciba\n",
    "x = x[np.newaxis, ...]\n",
    "\n",
    "#imprimo la img y la prediccion\n",
    "plt.imshow(img)\n",
    "resp = model.predict(x, verbose=0)\n",
    "print(f'prediccion = {CATEGORIES[np.argmax(resp[0])]}')"
   ]
  },
  {
   "cell_type": "markdown",
   "id": "11b62849",
   "metadata": {},
   "source": [
    "### Exportacion\n",
    "con el modelo ya funcionando correctamente, lo exportamos para poder utilizarlo en otros proyectos"
   ]
  },
  {
   "cell_type": "code",
   "execution_count": 50,
   "id": "56d6e997",
   "metadata": {},
   "outputs": [],
   "source": [
    "model.save('mod_color_v1.h5')\n",
    "model.save_weights(\"mod_color_v1_weights.h5\")"
   ]
  },
  {
   "cell_type": "markdown",
   "id": "5281d610",
   "metadata": {},
   "source": [
    "para cargarlos"
   ]
  },
  {
   "cell_type": "code",
   "execution_count": 17,
   "id": "0d3444ab",
   "metadata": {},
   "outputs": [],
   "source": [
    "# # Cargar la estructura del modelo\n",
    "# modelo_cargado = tf.keras.models.load_model(\"mod_color_v1.h5\")\n",
    "\n",
    "# # Cargar los pesos del modelo\n",
    "# modelo_cargado.load_weights(\"mod_color_v1_weights.h5\")\n",
    "convd \n",
    "drop out \n",
    "max poling \n",
    "padding \n"
   ]
  }
 ],
 "metadata": {
  "kernelspec": {
   "display_name": "Python 3",
   "language": "python",
   "name": "python3"
  },
  "language_info": {
   "codemirror_mode": {
    "name": "ipython",
    "version": 3
   },
   "file_extension": ".py",
   "mimetype": "text/x-python",
   "name": "python",
   "nbconvert_exporter": "python",
   "pygments_lexer": "ipython3",
   "version": "3.10.6"
  },
  "vscode": {
   "interpreter": {
    "hash": "916dbcbb3f70747c44a77c7bcd40155683ae19c65e1c03b4aa3499c5328201f1"
   }
  }
 },
 "nbformat": 4,
 "nbformat_minor": 5
}
