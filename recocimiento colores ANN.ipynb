{
 "cells": [
  {
   "cell_type": "markdown",
   "id": "959ad801",
   "metadata": {},
   "source": [
    "### importamos las librerias a utilizar"
   ]
  },
  {
   "cell_type": "code",
   "execution_count": 20,
   "id": "ab0dac45",
   "metadata": {},
   "outputs": [],
   "source": [
    "import tensorflow as tf\n",
    "import numpy as np\n",
    "import matplotlib.pyplot as plt\n",
    "from tensorflow.keras.models import Sequential\n",
    "from tensorflow.keras.layers import Dense, Flatten, Conv2D, MaxPooling2D, Input, Dropout\n",
    "from tensorflow.keras.preprocessing.image import load_img, img_to_array\n",
    "from sklearn.model_selection import train_test_split\n",
    "import os\n",
    "import warnings\n",
    "warnings.filterwarnings('ignore')\n"
   ]
  },
  {
   "cell_type": "markdown",
   "id": "8012439b",
   "metadata": {},
   "source": [
    "### Preparacion de espacio de trabajo\n",
    "\n",
    "especificamos la ruta de nuestro dataset, un arreglo para guardar las categorias que vayamos encontrando y la dimension a trabajar con nuestras imagenes"
   ]
  },
  {
   "cell_type": "code",
   "execution_count": 2,
   "id": "6685ab23",
   "metadata": {},
   "outputs": [],
   "source": [
    "DATADIR = '/home/lenin/Documents/datasets/colores'\n",
    "CATEGORIES = []\n",
    "IMG_SIZE=5"
   ]
  },
  {
   "cell_type": "markdown",
   "id": "342e7850",
   "metadata": {},
   "source": [
    "recorremos el direcotorio excluyendo las imagenes de testeo"
   ]
  },
  {
   "cell_type": "code",
   "execution_count": 3,
   "id": "a6fba52d",
   "metadata": {},
   "outputs": [
    {
     "name": "stdout",
     "output_type": "stream",
     "text": [
      "categorias encontradas: ['morado', 'azul', 'rojo', 'amarillo', 'gris', 'rosado', 'negro', 'naranja', 'celeste', 'verde', 'blanco', 'cafe']\n",
      " total: 12\n"
     ]
    }
   ],
   "source": [
    "for cate in os.listdir(DATADIR):\n",
    "    if cate == 'testimg': continue\n",
    "    CATEGORIES.append(cate)\n",
    "print(f'categorias encontradas: {CATEGORIES}\\n total: {len(CATEGORIES)}')"
   ]
  },
  {
   "cell_type": "markdown",
   "id": "639757ce",
   "metadata": {},
   "source": [
    "### Recoleccion de datos\n",
    "recorremos el directorio tomando cada imagen segun su respectiva categoria"
   ]
  },
  {
   "cell_type": "code",
   "execution_count": 4,
   "id": "614c1cc7",
   "metadata": {},
   "outputs": [
    {
     "name": "stderr",
     "output_type": "stream",
     "text": [
      "/home/lenin/.local/lib/python3.10/site-packages/PIL/Image.py:996: UserWarning: Palette images with Transparency expressed in bytes should be converted to RGBA images\n",
      "  warnings.warn(\n"
     ]
    },
    {
     "name": "stdout",
     "output_type": "stream",
     "text": [
      "done\n"
     ]
    }
   ],
   "source": [
    "training_data=[] #var para los datos recolectados\n",
    "labels=0\n",
    "for category in CATEGORIES:\n",
    "    path=os.path.join(DATADIR, category)\n",
    "    for fname in os.listdir(path):\n",
    "        img = load_img((path+'/'+fname), target_size=(IMG_SIZE,IMG_SIZE))\n",
    "        x = img_to_array(img)\n",
    "        x=x/255\n",
    "        training_data.append([x,labels])\n",
    "    labels+=1\n",
    "print('done')"
   ]
  },
  {
   "cell_type": "markdown",
   "id": "df437530",
   "metadata": {},
   "source": [
    "verificamos el total de datos que tenemos"
   ]
  },
  {
   "cell_type": "code",
   "execution_count": 5,
   "id": "376f016e",
   "metadata": {},
   "outputs": [
    {
     "name": "stdout",
     "output_type": "stream",
     "text": [
      "50400\n"
     ]
    }
   ],
   "source": [
    "lenofimage = len(training_data)\n",
    "print(lenofimage)"
   ]
  },
  {
   "cell_type": "markdown",
   "id": "cafca375",
   "metadata": {},
   "source": [
    "### Tratamiento de los datos\n",
    "separamos  nuestra data en img-labels y los tratamos con numpy"
   ]
  },
  {
   "cell_type": "code",
   "execution_count": 6,
   "id": "9bf3f7c2",
   "metadata": {},
   "outputs": [
    {
     "name": "stdout",
     "output_type": "stream",
     "text": [
      "done\n"
     ]
    }
   ],
   "source": [
    "X=[]\n",
    "y=[]\n",
    "for img, label in training_data:\n",
    "    X.append(img)\n",
    "    y.append(label)\n",
    "print('done')\n",
    "del training_data"
   ]
  },
  {
   "cell_type": "markdown",
   "id": "9a0a4673",
   "metadata": {},
   "source": [
    "verificamos la forma de nuestra data"
   ]
  },
  {
   "cell_type": "code",
   "execution_count": 7,
   "id": "4777655d",
   "metadata": {},
   "outputs": [
    {
     "name": "stdout",
     "output_type": "stream",
     "text": [
      "labels (50400,)\n",
      "img (50400, 5, 5, 3)\n"
     ]
    }
   ],
   "source": [
    "X=np.array(X)\n",
    "y=np.array(y)\n",
    "print('labels',y.shape)\n",
    "print('img',X.shape)"
   ]
  },
  {
   "cell_type": "markdown",
   "id": "8c237d2a",
   "metadata": {},
   "source": [
    "dividimos la data para train y test"
   ]
  },
  {
   "cell_type": "code",
   "execution_count": 8,
   "id": "d7f07e1a",
   "metadata": {},
   "outputs": [
    {
     "name": "stdout",
     "output_type": "stream",
     "text": [
      "train: 37800, test: 12600\n"
     ]
    }
   ],
   "source": [
    "X_train, X_test, y_train, y_test = train_test_split(X,y)\n",
    "print(f'train: {len(X_train)}, test: {len(X_test)}')\n",
    "del X\n",
    "del y"
   ]
  },
  {
   "cell_type": "markdown",
   "id": "1de46ea7",
   "metadata": {},
   "source": [
    "### Creacion del modelo\n",
    "creamos la arquitectura del modelo, lo compilamos y finalmente ajustamos"
   ]
  },
  {
   "cell_type": "code",
   "execution_count": 10,
   "id": "c8fcbd34",
   "metadata": {},
   "outputs": [],
   "source": [
    "# model = Sequential()\n",
    "# model.add(Flatten(input_shape=(X_train[0].shape)))\n",
    "# model.add(Dense(len(CATEGORIES), activation='softmax'))\n"
   ]
  },
  {
   "cell_type": "code",
   "execution_count": 17,
   "id": "13233a39",
   "metadata": {},
   "outputs": [],
   "source": [
    "model = Sequential([\n",
    "    Conv2D(32, (2,2), activation='relu', padding='SAME', input_shape=X_train[0].shape),\n",
    "    MaxPooling2D((2,2)),\n",
    "    Flatten(),\n",
    "    Dense(10, activation='relu'),\n",
    "    Dense(len(CATEGORIES), activation='softmax'),\n",
    "])"
   ]
  },
  {
   "cell_type": "code",
   "execution_count": 31,
   "id": "ab8aff8d",
   "metadata": {},
   "outputs": [],
   "source": [
    "model = Sequential()\n",
    "\n",
    "model.add(Conv2D(32, (3, 3), activation='relu', padding='SAME', input_shape=X_train[0].shape))\n",
    "model.add(MaxPooling2D((2, 2)))\n",
    "\n",
    "\n",
    "model.add(Conv2D(64, (3, 3), padding='SAME', activation='relu'))\n",
    "model.add(MaxPooling2D((2, 2)))\n",
    "\n",
    "model.add(Flatten())\n",
    "\n",
    "model.add(Dense(16, activation='relu'))\n",
    "model.add(Dense(len(CATEGORIES), activation='softmax'))\n",
    "\n",
    "model.compile(loss='categorical_crossentropy', optimizer='adam', metrics=['accuracy'])\n",
    "\n"
   ]
  },
  {
   "cell_type": "code",
   "execution_count": 32,
   "id": "eb69ae71",
   "metadata": {},
   "outputs": [
    {
     "name": "stdout",
     "output_type": "stream",
     "text": [
      "Epoch 1/50\n",
      "756/756 [==============================] - 5s 4ms/step - loss: 0.7498 - accuracy: 0.7576\n",
      "Epoch 2/50\n",
      "756/756 [==============================] - 4s 5ms/step - loss: 0.3685 - accuracy: 0.8666\n",
      "Epoch 3/50\n",
      "756/756 [==============================] - 3s 4ms/step - loss: 0.3417 - accuracy: 0.8718\n",
      "Epoch 4/50\n",
      "756/756 [==============================] - 3s 4ms/step - loss: 0.3284 - accuracy: 0.8754\n",
      "Epoch 5/50\n",
      "756/756 [==============================] - 3s 4ms/step - loss: 0.3209 - accuracy: 0.8767\n",
      "Epoch 6/50\n",
      "756/756 [==============================] - 4s 5ms/step - loss: 0.3152 - accuracy: 0.8794\n",
      "Epoch 7/50\n",
      "756/756 [==============================] - 4s 5ms/step - loss: 0.3077 - accuracy: 0.8820\n",
      "Epoch 8/50\n",
      "756/756 [==============================] - 3s 4ms/step - loss: 0.3001 - accuracy: 0.8854\n",
      "Epoch 9/50\n",
      "756/756 [==============================] - 3s 3ms/step - loss: 0.2961 - accuracy: 0.8852\n",
      "Epoch 10/50\n",
      "756/756 [==============================] - 3s 3ms/step - loss: 0.2899 - accuracy: 0.8884\n",
      "Epoch 11/50\n",
      "756/756 [==============================] - 3s 3ms/step - loss: 0.2855 - accuracy: 0.8898\n",
      "Epoch 12/50\n",
      "756/756 [==============================] - 3s 4ms/step - loss: 0.2792 - accuracy: 0.8929\n",
      "Epoch 13/50\n",
      "756/756 [==============================] - 3s 3ms/step - loss: 0.2778 - accuracy: 0.8925\n",
      "Epoch 14/50\n",
      "756/756 [==============================] - 3s 3ms/step - loss: 0.2720 - accuracy: 0.8940\n",
      "Epoch 15/50\n",
      "756/756 [==============================] - 3s 3ms/step - loss: 0.2719 - accuracy: 0.8953\n",
      "Epoch 16/50\n",
      "756/756 [==============================] - 3s 4ms/step - loss: 0.2684 - accuracy: 0.8963\n",
      "Epoch 17/50\n",
      "756/756 [==============================] - 3s 4ms/step - loss: 0.2660 - accuracy: 0.8970\n",
      "Epoch 18/50\n",
      "756/756 [==============================] - 3s 3ms/step - loss: 0.2639 - accuracy: 0.8999\n",
      "Epoch 19/50\n",
      "756/756 [==============================] - 3s 4ms/step - loss: 0.2603 - accuracy: 0.9004\n",
      "Epoch 20/50\n",
      "756/756 [==============================] - 2s 3ms/step - loss: 0.2590 - accuracy: 0.9017\n",
      "Epoch 21/50\n",
      "756/756 [==============================] - 3s 3ms/step - loss: 0.2556 - accuracy: 0.9022\n",
      "Epoch 22/50\n",
      "756/756 [==============================] - 3s 4ms/step - loss: 0.2550 - accuracy: 0.9016\n",
      "Epoch 23/50\n",
      "756/756 [==============================] - 3s 4ms/step - loss: 0.2498 - accuracy: 0.9044\n",
      "Epoch 24/50\n",
      "756/756 [==============================] - 3s 4ms/step - loss: 0.2499 - accuracy: 0.9038\n",
      "Epoch 25/50\n",
      "756/756 [==============================] - 3s 3ms/step - loss: 0.2459 - accuracy: 0.9052\n",
      "Epoch 26/50\n",
      "756/756 [==============================] - 3s 3ms/step - loss: 0.2459 - accuracy: 0.9062\n",
      "Epoch 27/50\n",
      "756/756 [==============================] - 3s 4ms/step - loss: 0.2441 - accuracy: 0.9066\n",
      "Epoch 28/50\n",
      "756/756 [==============================] - 3s 3ms/step - loss: 0.2403 - accuracy: 0.9073\n",
      "Epoch 29/50\n",
      "756/756 [==============================] - 3s 3ms/step - loss: 0.2418 - accuracy: 0.9083\n",
      "Epoch 30/50\n",
      "756/756 [==============================] - 3s 3ms/step - loss: 0.2376 - accuracy: 0.9099\n",
      "Epoch 31/50\n",
      "756/756 [==============================] - 3s 4ms/step - loss: 0.2342 - accuracy: 0.9100\n",
      "Epoch 32/50\n",
      "756/756 [==============================] - 3s 4ms/step - loss: 0.2353 - accuracy: 0.9090\n",
      "Epoch 33/50\n",
      "756/756 [==============================] - 3s 4ms/step - loss: 0.2360 - accuracy: 0.9101\n",
      "Epoch 34/50\n",
      "756/756 [==============================] - 4s 6ms/step - loss: 0.2336 - accuracy: 0.9111\n",
      "Epoch 35/50\n",
      "756/756 [==============================] - 3s 4ms/step - loss: 0.2291 - accuracy: 0.9138\n",
      "Epoch 36/50\n",
      "756/756 [==============================] - 3s 4ms/step - loss: 0.2262 - accuracy: 0.9136\n",
      "Epoch 37/50\n",
      "756/756 [==============================] - 3s 3ms/step - loss: 0.2268 - accuracy: 0.9131\n",
      "Epoch 38/50\n",
      "756/756 [==============================] - 3s 3ms/step - loss: 0.2240 - accuracy: 0.9144\n",
      "Epoch 39/50\n",
      "756/756 [==============================] - 3s 4ms/step - loss: 0.2220 - accuracy: 0.9145\n",
      "Epoch 40/50\n",
      "756/756 [==============================] - 3s 3ms/step - loss: 0.2231 - accuracy: 0.9153\n",
      "Epoch 41/50\n",
      "756/756 [==============================] - 3s 3ms/step - loss: 0.2206 - accuracy: 0.9153\n",
      "Epoch 42/50\n",
      "756/756 [==============================] - 2s 3ms/step - loss: 0.2194 - accuracy: 0.9166\n",
      "Epoch 43/50\n",
      "756/756 [==============================] - 2s 3ms/step - loss: 0.2175 - accuracy: 0.9169\n",
      "Epoch 44/50\n",
      "756/756 [==============================] - 3s 3ms/step - loss: 0.2168 - accuracy: 0.9170\n",
      "Epoch 45/50\n",
      "756/756 [==============================] - 2s 3ms/step - loss: 0.2138 - accuracy: 0.9177\n",
      "Epoch 46/50\n",
      "756/756 [==============================] - 3s 3ms/step - loss: 0.2146 - accuracy: 0.9196\n",
      "Epoch 47/50\n",
      "756/756 [==============================] - 3s 3ms/step - loss: 0.2102 - accuracy: 0.9193\n",
      "Epoch 48/50\n",
      "756/756 [==============================] - 3s 3ms/step - loss: 0.2086 - accuracy: 0.9197\n",
      "Epoch 49/50\n",
      "756/756 [==============================] - 3s 3ms/step - loss: 0.2084 - accuracy: 0.9204\n",
      "Epoch 50/50\n",
      "756/756 [==============================] - 3s 3ms/step - loss: 0.2051 - accuracy: 0.9214\n"
     ]
    },
    {
     "data": {
      "text/plain": [
       "<keras.callbacks.History at 0x7fb43c627160>"
      ]
     },
     "execution_count": 32,
     "metadata": {},
     "output_type": "execute_result"
    }
   ],
   "source": [
    "model.compile(optimizer='adam', loss='sparse_categorical_crossentropy', metrics=['accuracy'])\n",
    "model.fit(X_train, y_train, epochs=55, batch_size=40)"
   ]
  },
  {
   "cell_type": "markdown",
   "id": "99addcd6",
   "metadata": {},
   "source": [
    "verificamos la precision en testeo"
   ]
  },
  {
   "cell_type": "code",
   "execution_count": 33,
   "id": "05634151",
   "metadata": {},
   "outputs": [
    {
     "name": "stdout",
     "output_type": "stream",
     "text": [
      "test loss 0.20547828078269958\n",
      "test accuracy 0.925000011920929\n"
     ]
    }
   ],
   "source": [
    "test_loss, test_accuracy = model.evaluate(X_test, y_test, verbose=0)\n",
    "print('test loss',test_loss)\n",
    "print('test accuracy',test_accuracy)"
   ]
  },
  {
   "cell_type": "markdown",
   "id": "906391c4",
   "metadata": {},
   "source": [
    "### Probamos el modelo entrenado"
   ]
  },
  {
   "cell_type": "code",
   "execution_count": 43,
   "id": "1430fdc1",
   "metadata": {},
   "outputs": [
    {
     "name": "stdout",
     "output_type": "stream",
     "text": [
      "prediccion = rosado\n"
     ]
    },
    {
     "data": {
      "image/png": "[encoded data removed]",
      "text/plain": [
       "<Figure size 640x480 with 1 Axes>"
      ]
     },
     "metadata": {},
     "output_type": "display_data"
    }
   ],
   "source": [
    "#ruta a nuestras imagenes de test en el directorio, no de la data preparada\n",
    "path = DATADIR + '/testimg' + '/10.jpeg' \n",
    "\n",
    "#tratamos la img con el mismo tamanio y la normalizamos\n",
    "img = load_img(path, target_size=(IMG_SIZE,IMG_SIZE))\n",
    "x = img_to_array(img)\n",
    "x=x/255\n",
    "\n",
    "#agrego un eje para que el modelo lo reciba\n",
    "x = x[np.newaxis, ...]\n",
    "\n",
    "#imprimo la img y la prediccion\n",
    "plt.imshow(img)\n",
    "resp = model.predict(x, verbose=0)\n",
    "print(f'prediccion = {CATEGORIES[np.argmax(resp[0])]}')"
   ]
  },
  {
   "cell_type": "markdown",
   "id": "11b62849",
   "metadata": {},
   "source": [
    "### Exportacion\n",
    "con el modelo ya funcionando correctamente, lo exportamos para poder utilizarlo en otros proyectos"
   ]
  },
  {
   "cell_type": "code",
   "execution_count": 16,
   "id": "56d6e997",
   "metadata": {},
   "outputs": [],
   "source": [
    "# model.save('mod_color_v1.h5')\n",
    "# model.save_weights(\"mod_color_v1_weights.h5\")"
   ]
  },
  {
   "cell_type": "markdown",
   "id": "5281d610",
   "metadata": {},
   "source": [
    "para cargarlos"
   ]
  },
  {
   "cell_type": "code",
   "execution_count": 17,
   "id": "0d3444ab",
   "metadata": {},
   "outputs": [],
   "source": [
    "# # Cargar la estructura del modelo\n",
    "# modelo_cargado = tf.keras.models.load_model(\"mod_color_v1.h5\")\n",
    "\n",
    "# # Cargar los pesos del modelo\n",
    "# modelo_cargado.load_weights(\"mod_color_v1_weights.h5\")\n",
    "convd \n",
    "drop out \n",
    "max poling \n",
    "padding \n"
   ]
  }
 ],
 "metadata": {
  "kernelspec": {
   "display_name": "Python 3",
   "language": "python",
   "name": "python3"
  },
  "language_info": {
   "codemirror_mode": {
    "name": "ipython",
    "version": 3
   },
   "file_extension": ".py",
   "mimetype": "text/x-python",
   "name": "python",
   "nbconvert_exporter": "python",
   "pygments_lexer": "ipython3",
   "version": "3.10.6"
  },
  "vscode": {
   "interpreter": {
    "hash": "916dbcbb3f70747c44a77c7bcd40155683ae19c65e1c03b4aa3499c5328201f1"
   }
  }
 },
 "nbformat": 4,
 "nbformat_minor": 5
}
